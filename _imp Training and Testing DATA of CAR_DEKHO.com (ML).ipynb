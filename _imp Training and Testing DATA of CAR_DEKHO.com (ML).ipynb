{
 "cells": [
  {
   "cell_type": "markdown",
   "id": "28faf864",
   "metadata": {},
   "source": [
    "# Training and Testing DATA "
   ]
  },
  {
   "cell_type": "code",
   "execution_count": null,
   "id": "f3eb97f8",
   "metadata": {},
   "outputs": [],
   "source": [
    "Selling price (Dependent variable) = Name/Fuel & year (Independent variable)\n",
    "\n",
    "sklearn.model_selection.train_test_split is used in Machine Learning\n",
    "\n",
    "projects to split available dataset into training and test set This way you can train and test on separate datasets. \n",
    "when you test your model using dataset that model didn't see during training phase ,  \n",
    "it will give you better idea on the accuracy of a model. What does it mean"
   ]
  },
  {
   "cell_type": "markdown",
   "id": "a3d975b3",
   "metadata": {},
   "source": [
    "# Basically it means"
   ]
  },
  {
   "cell_type": "code",
   "execution_count": null,
   "id": "9c2e8e65",
   "metadata": {},
   "outputs": [],
   "source": [
    "It's like practicing with one set of questions and then being tested with a completely different set\n",
    "To see if you really understand the material. This way, you can check how well your model will work with new data \n",
    "it hasn't seen before. It's all about getting a more accurate idea of your model's performance! 📊🔍"
   ]
  },
  {
   "cell_type": "code",
   "execution_count": null,
   "id": "61275c79",
   "metadata": {},
   "outputs": [],
   "source": [
    "STEPS:-\n",
    "    1.import necesssry library\n",
    "    \n",
    "    2.import dataset\n",
    "    \n",
    "    3.Build the model/test\n",
    "    \n",
    "    4.Start making Prediction"
   ]
  },
  {
   "cell_type": "code",
   "execution_count": 97,
   "id": "6f28d323",
   "metadata": {},
   "outputs": [],
   "source": [
    "import pandas as pd\n",
    "import matplotlib.pyplot as plt\n",
    "%matplotlib inline"
   ]
  },
  {
   "cell_type": "code",
   "execution_count": 98,
   "id": "fdcb923b",
   "metadata": {},
   "outputs": [],
   "source": [
    "df = pd.read_csv(\"CAR_DETAILS_FROM_CAR_DEKHO[1].csv\")"
   ]
  },
  {
   "cell_type": "code",
   "execution_count": 99,
   "id": "42390634",
   "metadata": {},
   "outputs": [
    {
     "data": {
      "text/html": [
       "<div>\n",
       "<style scoped>\n",
       "    .dataframe tbody tr th:only-of-type {\n",
       "        vertical-align: middle;\n",
       "    }\n",
       "\n",
       "    .dataframe tbody tr th {\n",
       "        vertical-align: top;\n",
       "    }\n",
       "\n",
       "    .dataframe thead th {\n",
       "        text-align: right;\n",
       "    }\n",
       "</style>\n",
       "<table border=\"1\" class=\"dataframe\">\n",
       "  <thead>\n",
       "    <tr style=\"text-align: right;\">\n",
       "      <th></th>\n",
       "      <th>name</th>\n",
       "      <th>year</th>\n",
       "      <th>selling_price</th>\n",
       "      <th>km_driven</th>\n",
       "      <th>fuel</th>\n",
       "      <th>seller_type</th>\n",
       "      <th>transmission</th>\n",
       "      <th>owner</th>\n",
       "    </tr>\n",
       "  </thead>\n",
       "  <tbody>\n",
       "    <tr>\n",
       "      <th>0</th>\n",
       "      <td>Maruti 800 AC</td>\n",
       "      <td>2007</td>\n",
       "      <td>60000</td>\n",
       "      <td>70000</td>\n",
       "      <td>Petrol</td>\n",
       "      <td>Individual</td>\n",
       "      <td>Manual</td>\n",
       "      <td>First Owner</td>\n",
       "    </tr>\n",
       "    <tr>\n",
       "      <th>1</th>\n",
       "      <td>Maruti Wagon R LXI Minor</td>\n",
       "      <td>2007</td>\n",
       "      <td>135000</td>\n",
       "      <td>50000</td>\n",
       "      <td>Petrol</td>\n",
       "      <td>Individual</td>\n",
       "      <td>Manual</td>\n",
       "      <td>First Owner</td>\n",
       "    </tr>\n",
       "    <tr>\n",
       "      <th>2</th>\n",
       "      <td>Hyundai Verna 1.6 SX</td>\n",
       "      <td>2012</td>\n",
       "      <td>600000</td>\n",
       "      <td>100000</td>\n",
       "      <td>Diesel</td>\n",
       "      <td>Individual</td>\n",
       "      <td>Manual</td>\n",
       "      <td>First Owner</td>\n",
       "    </tr>\n",
       "    <tr>\n",
       "      <th>3</th>\n",
       "      <td>Datsun RediGO T Option</td>\n",
       "      <td>2017</td>\n",
       "      <td>250000</td>\n",
       "      <td>46000</td>\n",
       "      <td>Petrol</td>\n",
       "      <td>Individual</td>\n",
       "      <td>Manual</td>\n",
       "      <td>First Owner</td>\n",
       "    </tr>\n",
       "    <tr>\n",
       "      <th>4</th>\n",
       "      <td>Honda Amaze VX i-DTEC</td>\n",
       "      <td>2014</td>\n",
       "      <td>450000</td>\n",
       "      <td>141000</td>\n",
       "      <td>Diesel</td>\n",
       "      <td>Individual</td>\n",
       "      <td>Manual</td>\n",
       "      <td>Second Owner</td>\n",
       "    </tr>\n",
       "    <tr>\n",
       "      <th>...</th>\n",
       "      <td>...</td>\n",
       "      <td>...</td>\n",
       "      <td>...</td>\n",
       "      <td>...</td>\n",
       "      <td>...</td>\n",
       "      <td>...</td>\n",
       "      <td>...</td>\n",
       "      <td>...</td>\n",
       "    </tr>\n",
       "    <tr>\n",
       "      <th>4335</th>\n",
       "      <td>Hyundai i20 Magna 1.4 CRDi (Diesel)</td>\n",
       "      <td>2014</td>\n",
       "      <td>409999</td>\n",
       "      <td>80000</td>\n",
       "      <td>Diesel</td>\n",
       "      <td>Individual</td>\n",
       "      <td>Manual</td>\n",
       "      <td>Second Owner</td>\n",
       "    </tr>\n",
       "    <tr>\n",
       "      <th>4336</th>\n",
       "      <td>Hyundai i20 Magna 1.4 CRDi</td>\n",
       "      <td>2014</td>\n",
       "      <td>409999</td>\n",
       "      <td>80000</td>\n",
       "      <td>Diesel</td>\n",
       "      <td>Individual</td>\n",
       "      <td>Manual</td>\n",
       "      <td>Second Owner</td>\n",
       "    </tr>\n",
       "    <tr>\n",
       "      <th>4337</th>\n",
       "      <td>Maruti 800 AC BSIII</td>\n",
       "      <td>2009</td>\n",
       "      <td>110000</td>\n",
       "      <td>83000</td>\n",
       "      <td>Petrol</td>\n",
       "      <td>Individual</td>\n",
       "      <td>Manual</td>\n",
       "      <td>Second Owner</td>\n",
       "    </tr>\n",
       "    <tr>\n",
       "      <th>4338</th>\n",
       "      <td>Hyundai Creta 1.6 CRDi SX Option</td>\n",
       "      <td>2016</td>\n",
       "      <td>865000</td>\n",
       "      <td>90000</td>\n",
       "      <td>Diesel</td>\n",
       "      <td>Individual</td>\n",
       "      <td>Manual</td>\n",
       "      <td>First Owner</td>\n",
       "    </tr>\n",
       "    <tr>\n",
       "      <th>4339</th>\n",
       "      <td>Renault KWID RXT</td>\n",
       "      <td>2016</td>\n",
       "      <td>225000</td>\n",
       "      <td>40000</td>\n",
       "      <td>Petrol</td>\n",
       "      <td>Individual</td>\n",
       "      <td>Manual</td>\n",
       "      <td>First Owner</td>\n",
       "    </tr>\n",
       "  </tbody>\n",
       "</table>\n",
       "<p>4340 rows × 8 columns</p>\n",
       "</div>"
      ],
      "text/plain": [
       "                                     name  year  selling_price  km_driven  \\\n",
       "0                           Maruti 800 AC  2007          60000      70000   \n",
       "1                Maruti Wagon R LXI Minor  2007         135000      50000   \n",
       "2                    Hyundai Verna 1.6 SX  2012         600000     100000   \n",
       "3                  Datsun RediGO T Option  2017         250000      46000   \n",
       "4                   Honda Amaze VX i-DTEC  2014         450000     141000   \n",
       "...                                   ...   ...            ...        ...   \n",
       "4335  Hyundai i20 Magna 1.4 CRDi (Diesel)  2014         409999      80000   \n",
       "4336           Hyundai i20 Magna 1.4 CRDi  2014         409999      80000   \n",
       "4337                  Maruti 800 AC BSIII  2009         110000      83000   \n",
       "4338     Hyundai Creta 1.6 CRDi SX Option  2016         865000      90000   \n",
       "4339                     Renault KWID RXT  2016         225000      40000   \n",
       "\n",
       "        fuel seller_type transmission         owner  \n",
       "0     Petrol  Individual       Manual   First Owner  \n",
       "1     Petrol  Individual       Manual   First Owner  \n",
       "2     Diesel  Individual       Manual   First Owner  \n",
       "3     Petrol  Individual       Manual   First Owner  \n",
       "4     Diesel  Individual       Manual  Second Owner  \n",
       "...      ...         ...          ...           ...  \n",
       "4335  Diesel  Individual       Manual  Second Owner  \n",
       "4336  Diesel  Individual       Manual  Second Owner  \n",
       "4337  Petrol  Individual       Manual  Second Owner  \n",
       "4338  Diesel  Individual       Manual   First Owner  \n",
       "4339  Petrol  Individual       Manual   First Owner  \n",
       "\n",
       "[4340 rows x 8 columns]"
      ]
     },
     "execution_count": 99,
     "metadata": {},
     "output_type": "execute_result"
    }
   ],
   "source": [
    "df"
   ]
  },
  {
   "cell_type": "code",
   "execution_count": 100,
   "id": "07422abf",
   "metadata": {},
   "outputs": [],
   "source": [
    "df1 = df[[\"name\",\"year\",\"selling_price\",\"fuel\"]]"
   ]
  },
  {
   "cell_type": "code",
   "execution_count": 101,
   "id": "bd553b14",
   "metadata": {},
   "outputs": [
    {
     "data": {
      "text/html": [
       "<div>\n",
       "<style scoped>\n",
       "    .dataframe tbody tr th:only-of-type {\n",
       "        vertical-align: middle;\n",
       "    }\n",
       "\n",
       "    .dataframe tbody tr th {\n",
       "        vertical-align: top;\n",
       "    }\n",
       "\n",
       "    .dataframe thead th {\n",
       "        text-align: right;\n",
       "    }\n",
       "</style>\n",
       "<table border=\"1\" class=\"dataframe\">\n",
       "  <thead>\n",
       "    <tr style=\"text-align: right;\">\n",
       "      <th></th>\n",
       "      <th>name</th>\n",
       "      <th>year</th>\n",
       "      <th>selling_price</th>\n",
       "      <th>fuel</th>\n",
       "    </tr>\n",
       "  </thead>\n",
       "  <tbody>\n",
       "    <tr>\n",
       "      <th>0</th>\n",
       "      <td>Maruti 800 AC</td>\n",
       "      <td>2007</td>\n",
       "      <td>60000</td>\n",
       "      <td>Petrol</td>\n",
       "    </tr>\n",
       "    <tr>\n",
       "      <th>1</th>\n",
       "      <td>Maruti Wagon R LXI Minor</td>\n",
       "      <td>2007</td>\n",
       "      <td>135000</td>\n",
       "      <td>Petrol</td>\n",
       "    </tr>\n",
       "    <tr>\n",
       "      <th>2</th>\n",
       "      <td>Hyundai Verna 1.6 SX</td>\n",
       "      <td>2012</td>\n",
       "      <td>600000</td>\n",
       "      <td>Diesel</td>\n",
       "    </tr>\n",
       "    <tr>\n",
       "      <th>3</th>\n",
       "      <td>Datsun RediGO T Option</td>\n",
       "      <td>2017</td>\n",
       "      <td>250000</td>\n",
       "      <td>Petrol</td>\n",
       "    </tr>\n",
       "    <tr>\n",
       "      <th>4</th>\n",
       "      <td>Honda Amaze VX i-DTEC</td>\n",
       "      <td>2014</td>\n",
       "      <td>450000</td>\n",
       "      <td>Diesel</td>\n",
       "    </tr>\n",
       "    <tr>\n",
       "      <th>...</th>\n",
       "      <td>...</td>\n",
       "      <td>...</td>\n",
       "      <td>...</td>\n",
       "      <td>...</td>\n",
       "    </tr>\n",
       "    <tr>\n",
       "      <th>4335</th>\n",
       "      <td>Hyundai i20 Magna 1.4 CRDi (Diesel)</td>\n",
       "      <td>2014</td>\n",
       "      <td>409999</td>\n",
       "      <td>Diesel</td>\n",
       "    </tr>\n",
       "    <tr>\n",
       "      <th>4336</th>\n",
       "      <td>Hyundai i20 Magna 1.4 CRDi</td>\n",
       "      <td>2014</td>\n",
       "      <td>409999</td>\n",
       "      <td>Diesel</td>\n",
       "    </tr>\n",
       "    <tr>\n",
       "      <th>4337</th>\n",
       "      <td>Maruti 800 AC BSIII</td>\n",
       "      <td>2009</td>\n",
       "      <td>110000</td>\n",
       "      <td>Petrol</td>\n",
       "    </tr>\n",
       "    <tr>\n",
       "      <th>4338</th>\n",
       "      <td>Hyundai Creta 1.6 CRDi SX Option</td>\n",
       "      <td>2016</td>\n",
       "      <td>865000</td>\n",
       "      <td>Diesel</td>\n",
       "    </tr>\n",
       "    <tr>\n",
       "      <th>4339</th>\n",
       "      <td>Renault KWID RXT</td>\n",
       "      <td>2016</td>\n",
       "      <td>225000</td>\n",
       "      <td>Petrol</td>\n",
       "    </tr>\n",
       "  </tbody>\n",
       "</table>\n",
       "<p>4340 rows × 4 columns</p>\n",
       "</div>"
      ],
      "text/plain": [
       "                                     name  year  selling_price    fuel\n",
       "0                           Maruti 800 AC  2007          60000  Petrol\n",
       "1                Maruti Wagon R LXI Minor  2007         135000  Petrol\n",
       "2                    Hyundai Verna 1.6 SX  2012         600000  Diesel\n",
       "3                  Datsun RediGO T Option  2017         250000  Petrol\n",
       "4                   Honda Amaze VX i-DTEC  2014         450000  Diesel\n",
       "...                                   ...   ...            ...     ...\n",
       "4335  Hyundai i20 Magna 1.4 CRDi (Diesel)  2014         409999  Diesel\n",
       "4336           Hyundai i20 Magna 1.4 CRDi  2014         409999  Diesel\n",
       "4337                  Maruti 800 AC BSIII  2009         110000  Petrol\n",
       "4338     Hyundai Creta 1.6 CRDi SX Option  2016         865000  Diesel\n",
       "4339                     Renault KWID RXT  2016         225000  Petrol\n",
       "\n",
       "[4340 rows x 4 columns]"
      ]
     },
     "execution_count": 101,
     "metadata": {},
     "output_type": "execute_result"
    }
   ],
   "source": [
    "df1"
   ]
  },
  {
   "cell_type": "code",
   "execution_count": 102,
   "id": "6b286fd7",
   "metadata": {},
   "outputs": [
    {
     "data": {
      "text/html": [
       "<div>\n",
       "<style scoped>\n",
       "    .dataframe tbody tr th:only-of-type {\n",
       "        vertical-align: middle;\n",
       "    }\n",
       "\n",
       "    .dataframe tbody tr th {\n",
       "        vertical-align: top;\n",
       "    }\n",
       "\n",
       "    .dataframe thead th {\n",
       "        text-align: right;\n",
       "    }\n",
       "</style>\n",
       "<table border=\"1\" class=\"dataframe\">\n",
       "  <thead>\n",
       "    <tr style=\"text-align: right;\">\n",
       "      <th></th>\n",
       "      <th>name</th>\n",
       "      <th>year</th>\n",
       "      <th>selling_price</th>\n",
       "      <th>fuel</th>\n",
       "    </tr>\n",
       "  </thead>\n",
       "  <tbody>\n",
       "    <tr>\n",
       "      <th>0</th>\n",
       "      <td>Maruti 800 AC</td>\n",
       "      <td>2007</td>\n",
       "      <td>60000</td>\n",
       "      <td>Petrol</td>\n",
       "    </tr>\n",
       "    <tr>\n",
       "      <th>1</th>\n",
       "      <td>Maruti Wagon R LXI Minor</td>\n",
       "      <td>2007</td>\n",
       "      <td>135000</td>\n",
       "      <td>Petrol</td>\n",
       "    </tr>\n",
       "    <tr>\n",
       "      <th>2</th>\n",
       "      <td>Hyundai Verna 1.6 SX</td>\n",
       "      <td>2012</td>\n",
       "      <td>600000</td>\n",
       "      <td>Diesel</td>\n",
       "    </tr>\n",
       "    <tr>\n",
       "      <th>3</th>\n",
       "      <td>Datsun RediGO T Option</td>\n",
       "      <td>2017</td>\n",
       "      <td>250000</td>\n",
       "      <td>Petrol</td>\n",
       "    </tr>\n",
       "    <tr>\n",
       "      <th>4</th>\n",
       "      <td>Honda Amaze VX i-DTEC</td>\n",
       "      <td>2014</td>\n",
       "      <td>450000</td>\n",
       "      <td>Diesel</td>\n",
       "    </tr>\n",
       "    <tr>\n",
       "      <th>5</th>\n",
       "      <td>Maruti Alto LX BSIII</td>\n",
       "      <td>2007</td>\n",
       "      <td>140000</td>\n",
       "      <td>Petrol</td>\n",
       "    </tr>\n",
       "    <tr>\n",
       "      <th>6</th>\n",
       "      <td>Hyundai Xcent 1.2 Kappa S</td>\n",
       "      <td>2016</td>\n",
       "      <td>550000</td>\n",
       "      <td>Petrol</td>\n",
       "    </tr>\n",
       "    <tr>\n",
       "      <th>7</th>\n",
       "      <td>Tata Indigo Grand Petrol</td>\n",
       "      <td>2014</td>\n",
       "      <td>240000</td>\n",
       "      <td>Petrol</td>\n",
       "    </tr>\n",
       "    <tr>\n",
       "      <th>8</th>\n",
       "      <td>Hyundai Creta 1.6 VTVT S</td>\n",
       "      <td>2015</td>\n",
       "      <td>850000</td>\n",
       "      <td>Petrol</td>\n",
       "    </tr>\n",
       "    <tr>\n",
       "      <th>9</th>\n",
       "      <td>Maruti Celerio Green VXI</td>\n",
       "      <td>2017</td>\n",
       "      <td>365000</td>\n",
       "      <td>CNG</td>\n",
       "    </tr>\n",
       "  </tbody>\n",
       "</table>\n",
       "</div>"
      ],
      "text/plain": [
       "                        name  year  selling_price    fuel\n",
       "0              Maruti 800 AC  2007          60000  Petrol\n",
       "1   Maruti Wagon R LXI Minor  2007         135000  Petrol\n",
       "2       Hyundai Verna 1.6 SX  2012         600000  Diesel\n",
       "3     Datsun RediGO T Option  2017         250000  Petrol\n",
       "4      Honda Amaze VX i-DTEC  2014         450000  Diesel\n",
       "5       Maruti Alto LX BSIII  2007         140000  Petrol\n",
       "6  Hyundai Xcent 1.2 Kappa S  2016         550000  Petrol\n",
       "7   Tata Indigo Grand Petrol  2014         240000  Petrol\n",
       "8   Hyundai Creta 1.6 VTVT S  2015         850000  Petrol\n",
       "9   Maruti Celerio Green VXI  2017         365000     CNG"
      ]
     },
     "execution_count": 102,
     "metadata": {},
     "output_type": "execute_result"
    }
   ],
   "source": [
    "df1.head(10)"
   ]
  },
  {
   "cell_type": "code",
   "execution_count": 103,
   "id": "c478edb5",
   "metadata": {},
   "outputs": [
    {
     "data": {
      "text/plain": [
       "<function matplotlib.pyplot.show(close=None, block=None)>"
      ]
     },
     "execution_count": 103,
     "metadata": {},
     "output_type": "execute_result"
    },
    {
     "data": {
      "image/png": "[encoded data removed]",
      "text/plain": [
       "<Figure size 640x480 with 1 Axes>"
      ]
     },
     "metadata": {},
     "output_type": "display_data"
    }
   ],
   "source": [
    "plt.scatter(df[\"fuel\"],df[\"selling_price\"])\n",
    "#show the plot\n",
    "plt.show"
   ]
  },
  {
   "cell_type": "code",
   "execution_count": 104,
   "id": "dce4f057",
   "metadata": {},
   "outputs": [
    {
     "data": {
      "text/plain": [
       "<matplotlib.collections.PathCollection at 0x170eb3e85e0>"
      ]
     },
     "execution_count": 104,
     "metadata": {},
     "output_type": "execute_result"
    },
    {
     "data": {
      "image/png": "[encoded data removed]",
      "text/plain": [
       "<Figure size 640x480 with 1 Axes>"
      ]
     },
     "metadata": {},
     "output_type": "display_data"
    }
   ],
   "source": [
    "plt.scatter(df[\"year\"],df[\"selling_price\"])"
   ]
  },
  {
   "cell_type": "code",
   "execution_count": 105,
   "id": "76bf15b6",
   "metadata": {},
   "outputs": [],
   "source": [
    "x = df1[\"fuel\"],df1[\"year\"]\n",
    "y = df1[\"selling_price\"]"
   ]
  },
  {
   "cell_type": "code",
   "execution_count": 106,
   "id": "2c6d8042",
   "metadata": {},
   "outputs": [
    {
     "data": {
      "text/plain": [
       "(0       Petrol\n",
       " 1       Petrol\n",
       " 2       Diesel\n",
       " 3       Petrol\n",
       " 4       Diesel\n",
       "          ...  \n",
       " 4335    Diesel\n",
       " 4336    Diesel\n",
       " 4337    Petrol\n",
       " 4338    Diesel\n",
       " 4339    Petrol\n",
       " Name: fuel, Length: 4340, dtype: object,\n",
       " 0       2007\n",
       " 1       2007\n",
       " 2       2012\n",
       " 3       2017\n",
       " 4       2014\n",
       "         ... \n",
       " 4335    2014\n",
       " 4336    2014\n",
       " 4337    2009\n",
       " 4338    2016\n",
       " 4339    2016\n",
       " Name: year, Length: 4340, dtype: int64)"
      ]
     },
     "execution_count": 106,
     "metadata": {},
     "output_type": "execute_result"
    }
   ],
   "source": [
    "x"
   ]
  },
  {
   "cell_type": "code",
   "execution_count": 107,
   "id": "3c4f836a",
   "metadata": {},
   "outputs": [
    {
     "data": {
      "text/plain": [
       "0        60000\n",
       "1       135000\n",
       "2       600000\n",
       "3       250000\n",
       "4       450000\n",
       "         ...  \n",
       "4335    409999\n",
       "4336    409999\n",
       "4337    110000\n",
       "4338    865000\n",
       "4339    225000\n",
       "Name: selling_price, Length: 4340, dtype: int64"
      ]
     },
     "execution_count": 107,
     "metadata": {},
     "output_type": "execute_result"
    }
   ],
   "source": [
    "y"
   ]
  },
  {
   "cell_type": "code",
   "execution_count": 108,
   "id": "31c45c86",
   "metadata": {},
   "outputs": [],
   "source": [
    "from sklearn.model_selection import train_test_split"
   ]
  },
  {
   "cell_type": "code",
   "execution_count": 109,
   "id": "4ef16199",
   "metadata": {},
   "outputs": [
    {
     "ename": "ValueError",
     "evalue": "Found input variables with inconsistent numbers of samples: [2, 4340]",
     "output_type": "error",
     "traceback": [
      "\u001b[1;31m---------------------------------------------------------------------------\u001b[0m",
      "\u001b[1;31mValueError\u001b[0m                                Traceback (most recent call last)",
      "\u001b[1;32m~\\AppData\\Local\\Temp\\ipykernel_17968\\3182025007.py\u001b[0m in \u001b[0;36m<module>\u001b[1;34m\u001b[0m\n\u001b[0;32m      1\u001b[0m \u001b[1;31m# train_test_split(x,y,test_size = 0.2)\u001b[0m\u001b[1;33m\u001b[0m\u001b[1;33m\u001b[0m\u001b[0m\n\u001b[1;32m----> 2\u001b[1;33m \u001b[0mx_train\u001b[0m\u001b[1;33m,\u001b[0m\u001b[0mx_test\u001b[0m\u001b[1;33m,\u001b[0m\u001b[0my_train\u001b[0m\u001b[1;33m,\u001b[0m\u001b[0my_test\u001b[0m \u001b[1;33m=\u001b[0m \u001b[0mtrain_test_split\u001b[0m\u001b[1;33m(\u001b[0m\u001b[0mx\u001b[0m\u001b[1;33m,\u001b[0m\u001b[0my\u001b[0m\u001b[1;33m,\u001b[0m\u001b[0mtest_size\u001b[0m \u001b[1;33m=\u001b[0m \u001b[1;36m0.2\u001b[0m\u001b[1;33m)\u001b[0m\u001b[1;33m\u001b[0m\u001b[1;33m\u001b[0m\u001b[0m\n\u001b[0m",
      "\u001b[1;32m~\\Anaconda3\\lib\\site-packages\\sklearn\\model_selection\\_split.py\u001b[0m in \u001b[0;36mtrain_test_split\u001b[1;34m(test_size, train_size, random_state, shuffle, stratify, *arrays)\u001b[0m\n\u001b[0;32m   2415\u001b[0m         \u001b[1;32mraise\u001b[0m \u001b[0mValueError\u001b[0m\u001b[1;33m(\u001b[0m\u001b[1;34m\"At least one array required as input\"\u001b[0m\u001b[1;33m)\u001b[0m\u001b[1;33m\u001b[0m\u001b[1;33m\u001b[0m\u001b[0m\n\u001b[0;32m   2416\u001b[0m \u001b[1;33m\u001b[0m\u001b[0m\n\u001b[1;32m-> 2417\u001b[1;33m     \u001b[0marrays\u001b[0m \u001b[1;33m=\u001b[0m \u001b[0mindexable\u001b[0m\u001b[1;33m(\u001b[0m\u001b[1;33m*\u001b[0m\u001b[0marrays\u001b[0m\u001b[1;33m)\u001b[0m\u001b[1;33m\u001b[0m\u001b[1;33m\u001b[0m\u001b[0m\n\u001b[0m\u001b[0;32m   2418\u001b[0m \u001b[1;33m\u001b[0m\u001b[0m\n\u001b[0;32m   2419\u001b[0m     \u001b[0mn_samples\u001b[0m \u001b[1;33m=\u001b[0m \u001b[0m_num_samples\u001b[0m\u001b[1;33m(\u001b[0m\u001b[0marrays\u001b[0m\u001b[1;33m[\u001b[0m\u001b[1;36m0\u001b[0m\u001b[1;33m]\u001b[0m\u001b[1;33m)\u001b[0m\u001b[1;33m\u001b[0m\u001b[1;33m\u001b[0m\u001b[0m\n",
      "\u001b[1;32m~\\Anaconda3\\lib\\site-packages\\sklearn\\utils\\validation.py\u001b[0m in \u001b[0;36mindexable\u001b[1;34m(*iterables)\u001b[0m\n\u001b[0;32m    376\u001b[0m \u001b[1;33m\u001b[0m\u001b[0m\n\u001b[0;32m    377\u001b[0m     \u001b[0mresult\u001b[0m \u001b[1;33m=\u001b[0m \u001b[1;33m[\u001b[0m\u001b[0m_make_indexable\u001b[0m\u001b[1;33m(\u001b[0m\u001b[0mX\u001b[0m\u001b[1;33m)\u001b[0m \u001b[1;32mfor\u001b[0m \u001b[0mX\u001b[0m \u001b[1;32min\u001b[0m \u001b[0miterables\u001b[0m\u001b[1;33m]\u001b[0m\u001b[1;33m\u001b[0m\u001b[1;33m\u001b[0m\u001b[0m\n\u001b[1;32m--> 378\u001b[1;33m     \u001b[0mcheck_consistent_length\u001b[0m\u001b[1;33m(\u001b[0m\u001b[1;33m*\u001b[0m\u001b[0mresult\u001b[0m\u001b[1;33m)\u001b[0m\u001b[1;33m\u001b[0m\u001b[1;33m\u001b[0m\u001b[0m\n\u001b[0m\u001b[0;32m    379\u001b[0m     \u001b[1;32mreturn\u001b[0m \u001b[0mresult\u001b[0m\u001b[1;33m\u001b[0m\u001b[1;33m\u001b[0m\u001b[0m\n\u001b[0;32m    380\u001b[0m \u001b[1;33m\u001b[0m\u001b[0m\n",
      "\u001b[1;32m~\\Anaconda3\\lib\\site-packages\\sklearn\\utils\\validation.py\u001b[0m in \u001b[0;36mcheck_consistent_length\u001b[1;34m(*arrays)\u001b[0m\n\u001b[0;32m    330\u001b[0m     \u001b[0muniques\u001b[0m \u001b[1;33m=\u001b[0m \u001b[0mnp\u001b[0m\u001b[1;33m.\u001b[0m\u001b[0munique\u001b[0m\u001b[1;33m(\u001b[0m\u001b[0mlengths\u001b[0m\u001b[1;33m)\u001b[0m\u001b[1;33m\u001b[0m\u001b[1;33m\u001b[0m\u001b[0m\n\u001b[0;32m    331\u001b[0m     \u001b[1;32mif\u001b[0m \u001b[0mlen\u001b[0m\u001b[1;33m(\u001b[0m\u001b[0muniques\u001b[0m\u001b[1;33m)\u001b[0m \u001b[1;33m>\u001b[0m \u001b[1;36m1\u001b[0m\u001b[1;33m:\u001b[0m\u001b[1;33m\u001b[0m\u001b[1;33m\u001b[0m\u001b[0m\n\u001b[1;32m--> 332\u001b[1;33m         raise ValueError(\n\u001b[0m\u001b[0;32m    333\u001b[0m             \u001b[1;34m\"Found input variables with inconsistent numbers of samples: %r\"\u001b[0m\u001b[1;33m\u001b[0m\u001b[1;33m\u001b[0m\u001b[0m\n\u001b[0;32m    334\u001b[0m             \u001b[1;33m%\u001b[0m \u001b[1;33m[\u001b[0m\u001b[0mint\u001b[0m\u001b[1;33m(\u001b[0m\u001b[0ml\u001b[0m\u001b[1;33m)\u001b[0m \u001b[1;32mfor\u001b[0m \u001b[0ml\u001b[0m \u001b[1;32min\u001b[0m \u001b[0mlengths\u001b[0m\u001b[1;33m]\u001b[0m\u001b[1;33m\u001b[0m\u001b[1;33m\u001b[0m\u001b[0m\n",
      "\u001b[1;31mValueError\u001b[0m: Found input variables with inconsistent numbers of samples: [2, 4340]"
     ]
    }
   ],
   "source": [
    "# train_test_split(x,y,test_size = 0.2)\n",
    "x_train,x_test,y_train,y_test = train_test_split(x,y,test_size = 0.2)"
   ]
  },
  {
   "cell_type": "code",
   "execution_count": 110,
   "id": "c77c5004",
   "metadata": {},
   "outputs": [
    {
     "name": "stdout",
     "output_type": "stream",
     "text": [
      "Number of samples in x: 2\n",
      "Number of samples in y: 4340\n"
     ]
    }
   ],
   "source": [
    "#check the sample number in the input variable\n",
    "print(\"Number of samples in x:\",len(x))\n",
    "print(\"Number of samples in y:\",len(y))"
   ]
  },
  {
   "cell_type": "code",
   "execution_count": 111,
   "id": "cc0d34bd",
   "metadata": {},
   "outputs": [],
   "source": [
    "#Balancing the size sample in x & y variable\n",
    "if len(x) < len(y):\n",
    "    x_subset = x[:len(y)]\n",
    "else:\n",
    "    y_subset = y[:len(x)]"
   ]
  },
  {
   "cell_type": "markdown",
   "id": "b728ed12",
   "metadata": {},
   "source": [
    "# To balance the sample sizes in variables x and y, you can use the following code to balance our data "
   ]
  },
  {
   "cell_type": "code",
   "execution_count": 112,
   "id": "0d87c526",
   "metadata": {},
   "outputs": [],
   "source": [
    "import numpy as np"
   ]
  },
  {
   "cell_type": "code",
   "execution_count": 113,
   "id": "e1dbf58f",
   "metadata": {},
   "outputs": [],
   "source": [
    "# Assuming x is the larger variable and y is the smaller variable\n",
    "if len(x) > len(y):\n",
    "    # Randomly sample from x to match the sample size of y\n",
    "    x_subset = np.random.choice(x, size=len(y), replace=False)\n",
    "else:\n",
    "    # Duplicate samples in y to match the sample size of x\n",
    "    y_subset = np.random.choice(y, size=len(x), replace=True)"
   ]
  },
  {
   "cell_type": "code",
   "execution_count": 114,
   "id": "c00387fe",
   "metadata": {},
   "outputs": [],
   "source": [
    "# Assuming ypu hv balanced data in x_subset and y_subset\n",
    "X_train,X_test,y_train,y_test = train_test_split(x_subset,y_subset,test_size = 0.2,random_state = 42)"
   ]
  },
  {
   "cell_type": "code",
   "execution_count": 115,
   "id": "d959c1ff",
   "metadata": {},
   "outputs": [
    {
     "data": {
      "text/plain": [
       "[0       Petrol\n",
       " 1       Petrol\n",
       " 2       Diesel\n",
       " 3       Petrol\n",
       " 4       Diesel\n",
       "          ...  \n",
       " 4335    Diesel\n",
       " 4336    Diesel\n",
       " 4337    Petrol\n",
       " 4338    Diesel\n",
       " 4339    Petrol\n",
       " Name: fuel, Length: 4340, dtype: object]"
      ]
     },
     "execution_count": 115,
     "metadata": {},
     "output_type": "execute_result"
    }
   ],
   "source": [
    "#Does not show 80%\n",
    "X_train\n",
    "#len(x_train)\n",
    "#len(y_test)"
   ]
  },
  {
   "cell_type": "markdown",
   "id": "789870c2",
   "metadata": {},
   "source": [
    "# random_state gives u reproducible results each time u run yr code"
   ]
  },
  {
   "cell_type": "code",
   "execution_count": 116,
   "id": "b2f0db9e",
   "metadata": {},
   "outputs": [
    {
     "data": {
      "text/plain": [
       "[0       2007\n",
       " 1       2007\n",
       " 2       2012\n",
       " 3       2017\n",
       " 4       2014\n",
       "         ... \n",
       " 4335    2014\n",
       " 4336    2014\n",
       " 4337    2009\n",
       " 4338    2016\n",
       " 4339    2016\n",
       " Name: year, Length: 4340, dtype: int64]"
      ]
     },
     "execution_count": 116,
     "metadata": {},
     "output_type": "execute_result"
    }
   ],
   "source": [
    "X_test"
   ]
  },
  {
   "cell_type": "code",
   "execution_count": 117,
   "id": "178f6b9d",
   "metadata": {},
   "outputs": [
    {
     "name": "stdout",
     "output_type": "stream",
     "text": [
      "Length of X_train: 1\n",
      "Length of X_test: 1\n"
     ]
    }
   ],
   "source": [
    "print(\"Length of X_train:\",len(X_train))\n",
    "print(\"Length of X_test:\",len(X_test))"
   ]
  },
  {
   "cell_type": "markdown",
   "id": "4f1a9d64",
   "metadata": {},
   "source": [
    "# now  Data showing error bcoz  training n testing showing 1 value as output"
   ]
  },
  {
   "cell_type": "markdown",
   "id": "76fa2594",
   "metadata": {},
   "source": [
    "# Now we going for df1 "
   ]
  },
  {
   "cell_type": "code",
   "execution_count": 118,
   "id": "3827a70c",
   "metadata": {},
   "outputs": [],
   "source": [
    "from sklearn.model_selection import train_test_split"
   ]
  },
  {
   "cell_type": "code",
   "execution_count": 119,
   "id": "7c3614a4",
   "metadata": {},
   "outputs": [],
   "source": [
    "#splitting the data into training n testing sets\n",
    "X_train,X_test,y_train,y_test = train_test_split(df1.drop('year',axis=1),df1['selling_price'],test_size = 0.2,random_state = 42)"
   ]
  },
  {
   "cell_type": "markdown",
   "id": "6de26eaa",
   "metadata": {},
   "source": [
    "# IF we remove random_state then we r getting dataset randomly "
   ]
  },
  {
   "cell_type": "markdown",
   "id": "3f93f2d8",
   "metadata": {},
   "source": [
    "# With each 'Run' were getting rondom data "
   ]
  },
  {
   "cell_type": "code",
   "execution_count": 120,
   "id": "4efcb1e6",
   "metadata": {},
   "outputs": [
    {
     "data": {
      "text/html": [
       "<div>\n",
       "<style scoped>\n",
       "    .dataframe tbody tr th:only-of-type {\n",
       "        vertical-align: middle;\n",
       "    }\n",
       "\n",
       "    .dataframe tbody tr th {\n",
       "        vertical-align: top;\n",
       "    }\n",
       "\n",
       "    .dataframe thead th {\n",
       "        text-align: right;\n",
       "    }\n",
       "</style>\n",
       "<table border=\"1\" class=\"dataframe\">\n",
       "  <thead>\n",
       "    <tr style=\"text-align: right;\">\n",
       "      <th></th>\n",
       "      <th>name</th>\n",
       "      <th>selling_price</th>\n",
       "      <th>fuel</th>\n",
       "    </tr>\n",
       "  </thead>\n",
       "  <tbody>\n",
       "    <tr>\n",
       "      <th>227</th>\n",
       "      <td>Mahindra Scorpio S11 BSIV</td>\n",
       "      <td>1500000</td>\n",
       "      <td>Diesel</td>\n",
       "    </tr>\n",
       "    <tr>\n",
       "      <th>964</th>\n",
       "      <td>Maruti Swift Dzire VDI</td>\n",
       "      <td>500000</td>\n",
       "      <td>Diesel</td>\n",
       "    </tr>\n",
       "    <tr>\n",
       "      <th>2045</th>\n",
       "      <td>Maruti Alto 800 LXI</td>\n",
       "      <td>92800</td>\n",
       "      <td>Petrol</td>\n",
       "    </tr>\n",
       "    <tr>\n",
       "      <th>1025</th>\n",
       "      <td>Chevrolet Beat Diesel LS</td>\n",
       "      <td>95000</td>\n",
       "      <td>Diesel</td>\n",
       "    </tr>\n",
       "    <tr>\n",
       "      <th>4242</th>\n",
       "      <td>Maruti Vitara Brezza LDi Option</td>\n",
       "      <td>685000</td>\n",
       "      <td>Diesel</td>\n",
       "    </tr>\n",
       "    <tr>\n",
       "      <th>...</th>\n",
       "      <td>...</td>\n",
       "      <td>...</td>\n",
       "      <td>...</td>\n",
       "    </tr>\n",
       "    <tr>\n",
       "      <th>3444</th>\n",
       "      <td>Toyota Innova 2.5 G (Diesel) 8 Seater BS IV</td>\n",
       "      <td>500000</td>\n",
       "      <td>Diesel</td>\n",
       "    </tr>\n",
       "    <tr>\n",
       "      <th>466</th>\n",
       "      <td>Tata Indica Vista Quadrajet LX</td>\n",
       "      <td>133000</td>\n",
       "      <td>Diesel</td>\n",
       "    </tr>\n",
       "    <tr>\n",
       "      <th>3092</th>\n",
       "      <td>Maruti Ciaz VDi Plus SHVS</td>\n",
       "      <td>665000</td>\n",
       "      <td>Diesel</td>\n",
       "    </tr>\n",
       "    <tr>\n",
       "      <th>3772</th>\n",
       "      <td>Maruti Ertiga VDI</td>\n",
       "      <td>250999</td>\n",
       "      <td>Diesel</td>\n",
       "    </tr>\n",
       "    <tr>\n",
       "      <th>860</th>\n",
       "      <td>Hyundai Santro Xing GL Plus</td>\n",
       "      <td>175000</td>\n",
       "      <td>Petrol</td>\n",
       "    </tr>\n",
       "  </tbody>\n",
       "</table>\n",
       "<p>3472 rows × 3 columns</p>\n",
       "</div>"
      ],
      "text/plain": [
       "                                             name  selling_price    fuel\n",
       "227                     Mahindra Scorpio S11 BSIV        1500000  Diesel\n",
       "964                        Maruti Swift Dzire VDI         500000  Diesel\n",
       "2045                          Maruti Alto 800 LXI          92800  Petrol\n",
       "1025                     Chevrolet Beat Diesel LS          95000  Diesel\n",
       "4242              Maruti Vitara Brezza LDi Option         685000  Diesel\n",
       "...                                           ...            ...     ...\n",
       "3444  Toyota Innova 2.5 G (Diesel) 8 Seater BS IV         500000  Diesel\n",
       "466                Tata Indica Vista Quadrajet LX         133000  Diesel\n",
       "3092                    Maruti Ciaz VDi Plus SHVS         665000  Diesel\n",
       "3772                            Maruti Ertiga VDI         250999  Diesel\n",
       "860                   Hyundai Santro Xing GL Plus         175000  Petrol\n",
       "\n",
       "[3472 rows x 3 columns]"
      ]
     },
     "execution_count": 120,
     "metadata": {},
     "output_type": "execute_result"
    }
   ],
   "source": [
    "X_train"
   ]
  },
  {
   "cell_type": "code",
   "execution_count": 121,
   "id": "6a44b6d8",
   "metadata": {},
   "outputs": [
    {
     "data": {
      "text/html": [
       "<div>\n",
       "<style scoped>\n",
       "    .dataframe tbody tr th:only-of-type {\n",
       "        vertical-align: middle;\n",
       "    }\n",
       "\n",
       "    .dataframe tbody tr th {\n",
       "        vertical-align: top;\n",
       "    }\n",
       "\n",
       "    .dataframe thead th {\n",
       "        text-align: right;\n",
       "    }\n",
       "</style>\n",
       "<table border=\"1\" class=\"dataframe\">\n",
       "  <thead>\n",
       "    <tr style=\"text-align: right;\">\n",
       "      <th></th>\n",
       "      <th>name</th>\n",
       "      <th>selling_price</th>\n",
       "      <th>fuel</th>\n",
       "    </tr>\n",
       "  </thead>\n",
       "  <tbody>\n",
       "    <tr>\n",
       "      <th>3978</th>\n",
       "      <td>Tata Manza Aqua Quadrajet BS IV</td>\n",
       "      <td>165000</td>\n",
       "      <td>Diesel</td>\n",
       "    </tr>\n",
       "    <tr>\n",
       "      <th>1448</th>\n",
       "      <td>Renault KWID RXT BSIV</td>\n",
       "      <td>250000</td>\n",
       "      <td>Petrol</td>\n",
       "    </tr>\n",
       "    <tr>\n",
       "      <th>2664</th>\n",
       "      <td>Hyundai Santro Xing GL Plus</td>\n",
       "      <td>120000</td>\n",
       "      <td>Petrol</td>\n",
       "    </tr>\n",
       "    <tr>\n",
       "      <th>17</th>\n",
       "      <td>Honda Amaze VX i-DTEC</td>\n",
       "      <td>450000</td>\n",
       "      <td>Diesel</td>\n",
       "    </tr>\n",
       "    <tr>\n",
       "      <th>1634</th>\n",
       "      <td>Mahindra TUV 300 T8 AMT</td>\n",
       "      <td>730000</td>\n",
       "      <td>Diesel</td>\n",
       "    </tr>\n",
       "    <tr>\n",
       "      <th>...</th>\n",
       "      <td>...</td>\n",
       "      <td>...</td>\n",
       "      <td>...</td>\n",
       "    </tr>\n",
       "    <tr>\n",
       "      <th>3468</th>\n",
       "      <td>Maruti Wagon R LXI Minor</td>\n",
       "      <td>130000</td>\n",
       "      <td>Petrol</td>\n",
       "    </tr>\n",
       "    <tr>\n",
       "      <th>3164</th>\n",
       "      <td>Maruti Celerio ZDi</td>\n",
       "      <td>350000</td>\n",
       "      <td>Diesel</td>\n",
       "    </tr>\n",
       "    <tr>\n",
       "      <th>416</th>\n",
       "      <td>Maruti Ritz VDi</td>\n",
       "      <td>150000</td>\n",
       "      <td>Diesel</td>\n",
       "    </tr>\n",
       "    <tr>\n",
       "      <th>1616</th>\n",
       "      <td>Toyota Etios Liva 1.2 VX</td>\n",
       "      <td>650000</td>\n",
       "      <td>Petrol</td>\n",
       "    </tr>\n",
       "    <tr>\n",
       "      <th>2480</th>\n",
       "      <td>Maruti Wagon R ZXI 1.2</td>\n",
       "      <td>575000</td>\n",
       "      <td>Petrol</td>\n",
       "    </tr>\n",
       "  </tbody>\n",
       "</table>\n",
       "<p>868 rows × 3 columns</p>\n",
       "</div>"
      ],
      "text/plain": [
       "                                 name  selling_price    fuel\n",
       "3978  Tata Manza Aqua Quadrajet BS IV         165000  Diesel\n",
       "1448            Renault KWID RXT BSIV         250000  Petrol\n",
       "2664      Hyundai Santro Xing GL Plus         120000  Petrol\n",
       "17              Honda Amaze VX i-DTEC         450000  Diesel\n",
       "1634          Mahindra TUV 300 T8 AMT         730000  Diesel\n",
       "...                               ...            ...     ...\n",
       "3468         Maruti Wagon R LXI Minor         130000  Petrol\n",
       "3164               Maruti Celerio ZDi         350000  Diesel\n",
       "416                   Maruti Ritz VDi         150000  Diesel\n",
       "1616         Toyota Etios Liva 1.2 VX         650000  Petrol\n",
       "2480           Maruti Wagon R ZXI 1.2         575000  Petrol\n",
       "\n",
       "[868 rows x 3 columns]"
      ]
     },
     "execution_count": 121,
     "metadata": {},
     "output_type": "execute_result"
    }
   ],
   "source": [
    "X_test"
   ]
  },
  {
   "cell_type": "markdown",
   "id": "ccb1afc9",
   "metadata": {},
   "source": [
    "# now we r getting Accurate data of 80% n 20%"
   ]
  },
  {
   "cell_type": "markdown",
   "id": "033fefe0",
   "metadata": {},
   "source": [
    "# X_train = 80%"
   ]
  },
  {
   "cell_type": "markdown",
   "id": "016cbf28",
   "metadata": {},
   "source": [
    "# X_test = 20%"
   ]
  },
  {
   "cell_type": "markdown",
   "id": "8f4673bf",
   "metadata": {},
   "source": [
    "# NOW WE R GOING TO BUILD OUR MODEL"
   ]
  },
  {
   "cell_type": "code",
   "execution_count": 122,
   "id": "d694e7f9",
   "metadata": {},
   "outputs": [],
   "source": [
    "from sklearn.linear_model import LinearRegression\n",
    "#creating a model\n",
    "\n",
    "model = LinearRegression()"
   ]
  },
  {
   "cell_type": "code",
   "execution_count": 123,
   "id": "fd523cd5",
   "metadata": {},
   "outputs": [
    {
     "ename": "ValueError",
     "evalue": "could not convert string to float: 'Mahindra Scorpio S11 BSIV'",
     "output_type": "error",
     "traceback": [
      "\u001b[1;31m---------------------------------------------------------------------------\u001b[0m",
      "\u001b[1;31mValueError\u001b[0m                                Traceback (most recent call last)",
      "\u001b[1;32m~\\AppData\\Local\\Temp\\ipykernel_17968\\2721349307.py\u001b[0m in \u001b[0;36m<module>\u001b[1;34m\u001b[0m\n\u001b[1;32m----> 1\u001b[1;33m \u001b[0mmodel\u001b[0m\u001b[1;33m.\u001b[0m\u001b[0mfit\u001b[0m\u001b[1;33m(\u001b[0m\u001b[0mX_train\u001b[0m\u001b[1;33m,\u001b[0m\u001b[0my_train\u001b[0m\u001b[1;33m)\u001b[0m\u001b[1;33m\u001b[0m\u001b[1;33m\u001b[0m\u001b[0m\n\u001b[0m",
      "\u001b[1;32m~\\Anaconda3\\lib\\site-packages\\sklearn\\linear_model\\_base.py\u001b[0m in \u001b[0;36mfit\u001b[1;34m(self, X, y, sample_weight)\u001b[0m\n\u001b[0;32m    660\u001b[0m         \u001b[0maccept_sparse\u001b[0m \u001b[1;33m=\u001b[0m \u001b[1;32mFalse\u001b[0m \u001b[1;32mif\u001b[0m \u001b[0mself\u001b[0m\u001b[1;33m.\u001b[0m\u001b[0mpositive\u001b[0m \u001b[1;32melse\u001b[0m \u001b[1;33m[\u001b[0m\u001b[1;34m\"csr\"\u001b[0m\u001b[1;33m,\u001b[0m \u001b[1;34m\"csc\"\u001b[0m\u001b[1;33m,\u001b[0m \u001b[1;34m\"coo\"\u001b[0m\u001b[1;33m]\u001b[0m\u001b[1;33m\u001b[0m\u001b[1;33m\u001b[0m\u001b[0m\n\u001b[0;32m    661\u001b[0m \u001b[1;33m\u001b[0m\u001b[0m\n\u001b[1;32m--> 662\u001b[1;33m         X, y = self._validate_data(\n\u001b[0m\u001b[0;32m    663\u001b[0m             \u001b[0mX\u001b[0m\u001b[1;33m,\u001b[0m \u001b[0my\u001b[0m\u001b[1;33m,\u001b[0m \u001b[0maccept_sparse\u001b[0m\u001b[1;33m=\u001b[0m\u001b[0maccept_sparse\u001b[0m\u001b[1;33m,\u001b[0m \u001b[0my_numeric\u001b[0m\u001b[1;33m=\u001b[0m\u001b[1;32mTrue\u001b[0m\u001b[1;33m,\u001b[0m \u001b[0mmulti_output\u001b[0m\u001b[1;33m=\u001b[0m\u001b[1;32mTrue\u001b[0m\u001b[1;33m\u001b[0m\u001b[1;33m\u001b[0m\u001b[0m\n\u001b[0;32m    664\u001b[0m         )\n",
      "\u001b[1;32m~\\Anaconda3\\lib\\site-packages\\sklearn\\base.py\u001b[0m in \u001b[0;36m_validate_data\u001b[1;34m(self, X, y, reset, validate_separately, **check_params)\u001b[0m\n\u001b[0;32m    579\u001b[0m                 \u001b[0my\u001b[0m \u001b[1;33m=\u001b[0m \u001b[0mcheck_array\u001b[0m\u001b[1;33m(\u001b[0m\u001b[0my\u001b[0m\u001b[1;33m,\u001b[0m \u001b[1;33m**\u001b[0m\u001b[0mcheck_y_params\u001b[0m\u001b[1;33m)\u001b[0m\u001b[1;33m\u001b[0m\u001b[1;33m\u001b[0m\u001b[0m\n\u001b[0;32m    580\u001b[0m             \u001b[1;32melse\u001b[0m\u001b[1;33m:\u001b[0m\u001b[1;33m\u001b[0m\u001b[1;33m\u001b[0m\u001b[0m\n\u001b[1;32m--> 581\u001b[1;33m                 \u001b[0mX\u001b[0m\u001b[1;33m,\u001b[0m \u001b[0my\u001b[0m \u001b[1;33m=\u001b[0m \u001b[0mcheck_X_y\u001b[0m\u001b[1;33m(\u001b[0m\u001b[0mX\u001b[0m\u001b[1;33m,\u001b[0m \u001b[0my\u001b[0m\u001b[1;33m,\u001b[0m \u001b[1;33m**\u001b[0m\u001b[0mcheck_params\u001b[0m\u001b[1;33m)\u001b[0m\u001b[1;33m\u001b[0m\u001b[1;33m\u001b[0m\u001b[0m\n\u001b[0m\u001b[0;32m    582\u001b[0m             \u001b[0mout\u001b[0m \u001b[1;33m=\u001b[0m \u001b[0mX\u001b[0m\u001b[1;33m,\u001b[0m \u001b[0my\u001b[0m\u001b[1;33m\u001b[0m\u001b[1;33m\u001b[0m\u001b[0m\n\u001b[0;32m    583\u001b[0m \u001b[1;33m\u001b[0m\u001b[0m\n",
      "\u001b[1;32m~\\Anaconda3\\lib\\site-packages\\sklearn\\utils\\validation.py\u001b[0m in \u001b[0;36mcheck_X_y\u001b[1;34m(X, y, accept_sparse, accept_large_sparse, dtype, order, copy, force_all_finite, ensure_2d, allow_nd, multi_output, ensure_min_samples, ensure_min_features, y_numeric, estimator)\u001b[0m\n\u001b[0;32m    962\u001b[0m         \u001b[1;32mraise\u001b[0m \u001b[0mValueError\u001b[0m\u001b[1;33m(\u001b[0m\u001b[1;34m\"y cannot be None\"\u001b[0m\u001b[1;33m)\u001b[0m\u001b[1;33m\u001b[0m\u001b[1;33m\u001b[0m\u001b[0m\n\u001b[0;32m    963\u001b[0m \u001b[1;33m\u001b[0m\u001b[0m\n\u001b[1;32m--> 964\u001b[1;33m     X = check_array(\n\u001b[0m\u001b[0;32m    965\u001b[0m         \u001b[0mX\u001b[0m\u001b[1;33m,\u001b[0m\u001b[1;33m\u001b[0m\u001b[1;33m\u001b[0m\u001b[0m\n\u001b[0;32m    966\u001b[0m         \u001b[0maccept_sparse\u001b[0m\u001b[1;33m=\u001b[0m\u001b[0maccept_sparse\u001b[0m\u001b[1;33m,\u001b[0m\u001b[1;33m\u001b[0m\u001b[1;33m\u001b[0m\u001b[0m\n",
      "\u001b[1;32m~\\Anaconda3\\lib\\site-packages\\sklearn\\utils\\validation.py\u001b[0m in \u001b[0;36mcheck_array\u001b[1;34m(array, accept_sparse, accept_large_sparse, dtype, order, copy, force_all_finite, ensure_2d, allow_nd, ensure_min_samples, ensure_min_features, estimator)\u001b[0m\n\u001b[0;32m    744\u001b[0m                     \u001b[0marray\u001b[0m \u001b[1;33m=\u001b[0m \u001b[0marray\u001b[0m\u001b[1;33m.\u001b[0m\u001b[0mastype\u001b[0m\u001b[1;33m(\u001b[0m\u001b[0mdtype\u001b[0m\u001b[1;33m,\u001b[0m \u001b[0mcasting\u001b[0m\u001b[1;33m=\u001b[0m\u001b[1;34m\"unsafe\"\u001b[0m\u001b[1;33m,\u001b[0m \u001b[0mcopy\u001b[0m\u001b[1;33m=\u001b[0m\u001b[1;32mFalse\u001b[0m\u001b[1;33m)\u001b[0m\u001b[1;33m\u001b[0m\u001b[1;33m\u001b[0m\u001b[0m\n\u001b[0;32m    745\u001b[0m                 \u001b[1;32melse\u001b[0m\u001b[1;33m:\u001b[0m\u001b[1;33m\u001b[0m\u001b[1;33m\u001b[0m\u001b[0m\n\u001b[1;32m--> 746\u001b[1;33m                     \u001b[0marray\u001b[0m \u001b[1;33m=\u001b[0m \u001b[0mnp\u001b[0m\u001b[1;33m.\u001b[0m\u001b[0masarray\u001b[0m\u001b[1;33m(\u001b[0m\u001b[0marray\u001b[0m\u001b[1;33m,\u001b[0m \u001b[0morder\u001b[0m\u001b[1;33m=\u001b[0m\u001b[0morder\u001b[0m\u001b[1;33m,\u001b[0m \u001b[0mdtype\u001b[0m\u001b[1;33m=\u001b[0m\u001b[0mdtype\u001b[0m\u001b[1;33m)\u001b[0m\u001b[1;33m\u001b[0m\u001b[1;33m\u001b[0m\u001b[0m\n\u001b[0m\u001b[0;32m    747\u001b[0m             \u001b[1;32mexcept\u001b[0m \u001b[0mComplexWarning\u001b[0m \u001b[1;32mas\u001b[0m \u001b[0mcomplex_warning\u001b[0m\u001b[1;33m:\u001b[0m\u001b[1;33m\u001b[0m\u001b[1;33m\u001b[0m\u001b[0m\n\u001b[0;32m    748\u001b[0m                 raise ValueError(\n",
      "\u001b[1;32m~\\Anaconda3\\lib\\site-packages\\pandas\\core\\generic.py\u001b[0m in \u001b[0;36m__array__\u001b[1;34m(self, dtype)\u001b[0m\n\u001b[0;32m   2062\u001b[0m \u001b[1;33m\u001b[0m\u001b[0m\n\u001b[0;32m   2063\u001b[0m     \u001b[1;32mdef\u001b[0m \u001b[0m__array__\u001b[0m\u001b[1;33m(\u001b[0m\u001b[0mself\u001b[0m\u001b[1;33m,\u001b[0m \u001b[0mdtype\u001b[0m\u001b[1;33m:\u001b[0m \u001b[0mnpt\u001b[0m\u001b[1;33m.\u001b[0m\u001b[0mDTypeLike\u001b[0m \u001b[1;33m|\u001b[0m \u001b[1;32mNone\u001b[0m \u001b[1;33m=\u001b[0m \u001b[1;32mNone\u001b[0m\u001b[1;33m)\u001b[0m \u001b[1;33m->\u001b[0m \u001b[0mnp\u001b[0m\u001b[1;33m.\u001b[0m\u001b[0mndarray\u001b[0m\u001b[1;33m:\u001b[0m\u001b[1;33m\u001b[0m\u001b[1;33m\u001b[0m\u001b[0m\n\u001b[1;32m-> 2064\u001b[1;33m         \u001b[1;32mreturn\u001b[0m \u001b[0mnp\u001b[0m\u001b[1;33m.\u001b[0m\u001b[0masarray\u001b[0m\u001b[1;33m(\u001b[0m\u001b[0mself\u001b[0m\u001b[1;33m.\u001b[0m\u001b[0m_values\u001b[0m\u001b[1;33m,\u001b[0m \u001b[0mdtype\u001b[0m\u001b[1;33m=\u001b[0m\u001b[0mdtype\u001b[0m\u001b[1;33m)\u001b[0m\u001b[1;33m\u001b[0m\u001b[1;33m\u001b[0m\u001b[0m\n\u001b[0m\u001b[0;32m   2065\u001b[0m \u001b[1;33m\u001b[0m\u001b[0m\n\u001b[0;32m   2066\u001b[0m     def __array_wrap__(\n",
      "\u001b[1;31mValueError\u001b[0m: could not convert string to float: 'Mahindra Scorpio S11 BSIV'"
     ]
    }
   ],
   "source": [
    "model.fit(X_train,y_train)"
   ]
  },
  {
   "cell_type": "code",
   "execution_count": 127,
   "id": "b952ea46",
   "metadata": {},
   "outputs": [],
   "source": [
    "X_train.drop(columns=['name'],inplace=True)"
   ]
  },
  {
   "cell_type": "code",
   "execution_count": 128,
   "id": "f007e54a",
   "metadata": {},
   "outputs": [
    {
     "ename": "ValueError",
     "evalue": "could not convert string to float: 'Diesel'",
     "output_type": "error",
     "traceback": [
      "\u001b[1;31m---------------------------------------------------------------------------\u001b[0m",
      "\u001b[1;31mValueError\u001b[0m                                Traceback (most recent call last)",
      "\u001b[1;32m~\\AppData\\Local\\Temp\\ipykernel_17968\\2721349307.py\u001b[0m in \u001b[0;36m<module>\u001b[1;34m\u001b[0m\n\u001b[1;32m----> 1\u001b[1;33m \u001b[0mmodel\u001b[0m\u001b[1;33m.\u001b[0m\u001b[0mfit\u001b[0m\u001b[1;33m(\u001b[0m\u001b[0mX_train\u001b[0m\u001b[1;33m,\u001b[0m\u001b[0my_train\u001b[0m\u001b[1;33m)\u001b[0m\u001b[1;33m\u001b[0m\u001b[1;33m\u001b[0m\u001b[0m\n\u001b[0m",
      "\u001b[1;32m~\\Anaconda3\\lib\\site-packages\\sklearn\\linear_model\\_base.py\u001b[0m in \u001b[0;36mfit\u001b[1;34m(self, X, y, sample_weight)\u001b[0m\n\u001b[0;32m    660\u001b[0m         \u001b[0maccept_sparse\u001b[0m \u001b[1;33m=\u001b[0m \u001b[1;32mFalse\u001b[0m \u001b[1;32mif\u001b[0m \u001b[0mself\u001b[0m\u001b[1;33m.\u001b[0m\u001b[0mpositive\u001b[0m \u001b[1;32melse\u001b[0m \u001b[1;33m[\u001b[0m\u001b[1;34m\"csr\"\u001b[0m\u001b[1;33m,\u001b[0m \u001b[1;34m\"csc\"\u001b[0m\u001b[1;33m,\u001b[0m \u001b[1;34m\"coo\"\u001b[0m\u001b[1;33m]\u001b[0m\u001b[1;33m\u001b[0m\u001b[1;33m\u001b[0m\u001b[0m\n\u001b[0;32m    661\u001b[0m \u001b[1;33m\u001b[0m\u001b[0m\n\u001b[1;32m--> 662\u001b[1;33m         X, y = self._validate_data(\n\u001b[0m\u001b[0;32m    663\u001b[0m             \u001b[0mX\u001b[0m\u001b[1;33m,\u001b[0m \u001b[0my\u001b[0m\u001b[1;33m,\u001b[0m \u001b[0maccept_sparse\u001b[0m\u001b[1;33m=\u001b[0m\u001b[0maccept_sparse\u001b[0m\u001b[1;33m,\u001b[0m \u001b[0my_numeric\u001b[0m\u001b[1;33m=\u001b[0m\u001b[1;32mTrue\u001b[0m\u001b[1;33m,\u001b[0m \u001b[0mmulti_output\u001b[0m\u001b[1;33m=\u001b[0m\u001b[1;32mTrue\u001b[0m\u001b[1;33m\u001b[0m\u001b[1;33m\u001b[0m\u001b[0m\n\u001b[0;32m    664\u001b[0m         )\n",
      "\u001b[1;32m~\\Anaconda3\\lib\\site-packages\\sklearn\\base.py\u001b[0m in \u001b[0;36m_validate_data\u001b[1;34m(self, X, y, reset, validate_separately, **check_params)\u001b[0m\n\u001b[0;32m    579\u001b[0m                 \u001b[0my\u001b[0m \u001b[1;33m=\u001b[0m \u001b[0mcheck_array\u001b[0m\u001b[1;33m(\u001b[0m\u001b[0my\u001b[0m\u001b[1;33m,\u001b[0m \u001b[1;33m**\u001b[0m\u001b[0mcheck_y_params\u001b[0m\u001b[1;33m)\u001b[0m\u001b[1;33m\u001b[0m\u001b[1;33m\u001b[0m\u001b[0m\n\u001b[0;32m    580\u001b[0m             \u001b[1;32melse\u001b[0m\u001b[1;33m:\u001b[0m\u001b[1;33m\u001b[0m\u001b[1;33m\u001b[0m\u001b[0m\n\u001b[1;32m--> 581\u001b[1;33m                 \u001b[0mX\u001b[0m\u001b[1;33m,\u001b[0m \u001b[0my\u001b[0m \u001b[1;33m=\u001b[0m \u001b[0mcheck_X_y\u001b[0m\u001b[1;33m(\u001b[0m\u001b[0mX\u001b[0m\u001b[1;33m,\u001b[0m \u001b[0my\u001b[0m\u001b[1;33m,\u001b[0m \u001b[1;33m**\u001b[0m\u001b[0mcheck_params\u001b[0m\u001b[1;33m)\u001b[0m\u001b[1;33m\u001b[0m\u001b[1;33m\u001b[0m\u001b[0m\n\u001b[0m\u001b[0;32m    582\u001b[0m             \u001b[0mout\u001b[0m \u001b[1;33m=\u001b[0m \u001b[0mX\u001b[0m\u001b[1;33m,\u001b[0m \u001b[0my\u001b[0m\u001b[1;33m\u001b[0m\u001b[1;33m\u001b[0m\u001b[0m\n\u001b[0;32m    583\u001b[0m \u001b[1;33m\u001b[0m\u001b[0m\n",
      "\u001b[1;32m~\\Anaconda3\\lib\\site-packages\\sklearn\\utils\\validation.py\u001b[0m in \u001b[0;36mcheck_X_y\u001b[1;34m(X, y, accept_sparse, accept_large_sparse, dtype, order, copy, force_all_finite, ensure_2d, allow_nd, multi_output, ensure_min_samples, ensure_min_features, y_numeric, estimator)\u001b[0m\n\u001b[0;32m    962\u001b[0m         \u001b[1;32mraise\u001b[0m \u001b[0mValueError\u001b[0m\u001b[1;33m(\u001b[0m\u001b[1;34m\"y cannot be None\"\u001b[0m\u001b[1;33m)\u001b[0m\u001b[1;33m\u001b[0m\u001b[1;33m\u001b[0m\u001b[0m\n\u001b[0;32m    963\u001b[0m \u001b[1;33m\u001b[0m\u001b[0m\n\u001b[1;32m--> 964\u001b[1;33m     X = check_array(\n\u001b[0m\u001b[0;32m    965\u001b[0m         \u001b[0mX\u001b[0m\u001b[1;33m,\u001b[0m\u001b[1;33m\u001b[0m\u001b[1;33m\u001b[0m\u001b[0m\n\u001b[0;32m    966\u001b[0m         \u001b[0maccept_sparse\u001b[0m\u001b[1;33m=\u001b[0m\u001b[0maccept_sparse\u001b[0m\u001b[1;33m,\u001b[0m\u001b[1;33m\u001b[0m\u001b[1;33m\u001b[0m\u001b[0m\n",
      "\u001b[1;32m~\\Anaconda3\\lib\\site-packages\\sklearn\\utils\\validation.py\u001b[0m in \u001b[0;36mcheck_array\u001b[1;34m(array, accept_sparse, accept_large_sparse, dtype, order, copy, force_all_finite, ensure_2d, allow_nd, ensure_min_samples, ensure_min_features, estimator)\u001b[0m\n\u001b[0;32m    744\u001b[0m                     \u001b[0marray\u001b[0m \u001b[1;33m=\u001b[0m \u001b[0marray\u001b[0m\u001b[1;33m.\u001b[0m\u001b[0mastype\u001b[0m\u001b[1;33m(\u001b[0m\u001b[0mdtype\u001b[0m\u001b[1;33m,\u001b[0m \u001b[0mcasting\u001b[0m\u001b[1;33m=\u001b[0m\u001b[1;34m\"unsafe\"\u001b[0m\u001b[1;33m,\u001b[0m \u001b[0mcopy\u001b[0m\u001b[1;33m=\u001b[0m\u001b[1;32mFalse\u001b[0m\u001b[1;33m)\u001b[0m\u001b[1;33m\u001b[0m\u001b[1;33m\u001b[0m\u001b[0m\n\u001b[0;32m    745\u001b[0m                 \u001b[1;32melse\u001b[0m\u001b[1;33m:\u001b[0m\u001b[1;33m\u001b[0m\u001b[1;33m\u001b[0m\u001b[0m\n\u001b[1;32m--> 746\u001b[1;33m                     \u001b[0marray\u001b[0m \u001b[1;33m=\u001b[0m \u001b[0mnp\u001b[0m\u001b[1;33m.\u001b[0m\u001b[0masarray\u001b[0m\u001b[1;33m(\u001b[0m\u001b[0marray\u001b[0m\u001b[1;33m,\u001b[0m \u001b[0morder\u001b[0m\u001b[1;33m=\u001b[0m\u001b[0morder\u001b[0m\u001b[1;33m,\u001b[0m \u001b[0mdtype\u001b[0m\u001b[1;33m=\u001b[0m\u001b[0mdtype\u001b[0m\u001b[1;33m)\u001b[0m\u001b[1;33m\u001b[0m\u001b[1;33m\u001b[0m\u001b[0m\n\u001b[0m\u001b[0;32m    747\u001b[0m             \u001b[1;32mexcept\u001b[0m \u001b[0mComplexWarning\u001b[0m \u001b[1;32mas\u001b[0m \u001b[0mcomplex_warning\u001b[0m\u001b[1;33m:\u001b[0m\u001b[1;33m\u001b[0m\u001b[1;33m\u001b[0m\u001b[0m\n\u001b[0;32m    748\u001b[0m                 raise ValueError(\n",
      "\u001b[1;32m~\\Anaconda3\\lib\\site-packages\\pandas\\core\\generic.py\u001b[0m in \u001b[0;36m__array__\u001b[1;34m(self, dtype)\u001b[0m\n\u001b[0;32m   2062\u001b[0m \u001b[1;33m\u001b[0m\u001b[0m\n\u001b[0;32m   2063\u001b[0m     \u001b[1;32mdef\u001b[0m \u001b[0m__array__\u001b[0m\u001b[1;33m(\u001b[0m\u001b[0mself\u001b[0m\u001b[1;33m,\u001b[0m \u001b[0mdtype\u001b[0m\u001b[1;33m:\u001b[0m \u001b[0mnpt\u001b[0m\u001b[1;33m.\u001b[0m\u001b[0mDTypeLike\u001b[0m \u001b[1;33m|\u001b[0m \u001b[1;32mNone\u001b[0m \u001b[1;33m=\u001b[0m \u001b[1;32mNone\u001b[0m\u001b[1;33m)\u001b[0m \u001b[1;33m->\u001b[0m \u001b[0mnp\u001b[0m\u001b[1;33m.\u001b[0m\u001b[0mndarray\u001b[0m\u001b[1;33m:\u001b[0m\u001b[1;33m\u001b[0m\u001b[1;33m\u001b[0m\u001b[0m\n\u001b[1;32m-> 2064\u001b[1;33m         \u001b[1;32mreturn\u001b[0m \u001b[0mnp\u001b[0m\u001b[1;33m.\u001b[0m\u001b[0masarray\u001b[0m\u001b[1;33m(\u001b[0m\u001b[0mself\u001b[0m\u001b[1;33m.\u001b[0m\u001b[0m_values\u001b[0m\u001b[1;33m,\u001b[0m \u001b[0mdtype\u001b[0m\u001b[1;33m=\u001b[0m\u001b[0mdtype\u001b[0m\u001b[1;33m)\u001b[0m\u001b[1;33m\u001b[0m\u001b[1;33m\u001b[0m\u001b[0m\n\u001b[0m\u001b[0;32m   2065\u001b[0m \u001b[1;33m\u001b[0m\u001b[0m\n\u001b[0;32m   2066\u001b[0m     def __array_wrap__(\n",
      "\u001b[1;31mValueError\u001b[0m: could not convert string to float: 'Diesel'"
     ]
    }
   ],
   "source": [
    "model.fit(X_train,y_train)"
   ]
  },
  {
   "cell_type": "code",
   "execution_count": 129,
   "id": "c64dd441",
   "metadata": {},
   "outputs": [],
   "source": [
    "X_train.drop(columns=['fuel'],inplace=True)"
   ]
  },
  {
   "cell_type": "code",
   "execution_count": 130,
   "id": "716e7ae6",
   "metadata": {},
   "outputs": [
    {
     "data": {
      "text/plain": [
       "LinearRegression()"
      ]
     },
     "execution_count": 130,
     "metadata": {},
     "output_type": "execute_result"
    }
   ],
   "source": [
    "model.fit(X_train,y_train)"
   ]
  },
  {
   "cell_type": "code",
   "execution_count": 132,
   "id": "5454e322",
   "metadata": {},
   "outputs": [],
   "source": [
    "X_test.drop(columns=['name'],inplace=True)"
   ]
  },
  {
   "cell_type": "code",
   "execution_count": 134,
   "id": "89e78652",
   "metadata": {},
   "outputs": [],
   "source": [
    "X_test.drop(columns=['fuel'],inplace=True)"
   ]
  },
  {
   "cell_type": "code",
   "execution_count": 135,
   "id": "1e060d1c",
   "metadata": {},
   "outputs": [
    {
     "data": {
      "text/plain": [
       "array([ 165000.,  250000.,  120000.,  450000.,  730000.,  155000.,\n",
       "        530000.,   92800.,  284000.,  260000.,  511000., 1800000.,\n",
       "        320000.,   90000.,  850000.,  500000.,  624000.,  750000.,\n",
       "        125000.,  675000.,  500000., 1500000.,  200000.,  700000.,\n",
       "        175000.,  630000.,  750000.,  210000.,  500000.,  650000.,\n",
       "        250000.,  290000.,  450000.,  750000.,  550000.,  160000.,\n",
       "        650000.,  655000.,  135000.,  360000.,  625000.,  360000.,\n",
       "        600000.,  300000.,  140000.,   75000.,  280000.,  700000.,\n",
       "        580000.,  200000.,  110000.,  470000.,  760000.,  200000.,\n",
       "        400000.,  390000.,  370000.,  175000.,  280000.,  490000.,\n",
       "        229999.,  285000., 1900000.,  655000.,  550000.,  260000.,\n",
       "        760000.,  199000.,  100000.,  300000., 1050000.,  650000.,\n",
       "         95000.,  750000.,  250000.,  680000.,  350000.,  600000.,\n",
       "        390000.,  701000.,  700000.,  110000.,  165000.,  425000.,\n",
       "         65000.,  290000.,  800000.,  200000.,  540000.,   60000.,\n",
       "        100000.,  300000.,  200000.,  140000.,  600000.,  200000.,\n",
       "       4800000.,   57000.,   95000.,  509999.,  700000.,  535000.,\n",
       "        229999.,  320000.,  275000.,  650000.,  539000.,  150000.,\n",
       "        300000.,  300000.,  210000.,  239000., 1490000.,  625000.,\n",
       "        640000.,  200000.,  240000.,  250000., 1800000.,  409999.,\n",
       "        611000.,  235000.,  350000.,  800000., 1200000.,   43000.,\n",
       "        120000.,  650000.,   40000.,  370000.,  750000.,  675000.,\n",
       "        400000.,   60000.,  550000., 2800000.,  250000.,  300000.,\n",
       "        500000.,  600000.,  625000.,  165000.,  270000.,  550000.,\n",
       "        390000.,   75000.,  409999.,  170000.,  421000.,  450000.,\n",
       "        585000.,   88000.,  720000.,  300000.,  325000.,  500000.,\n",
       "        530000.,  215000.,  650000.,  315000., 1000000.,  325000.,\n",
       "        660000.,   95000.,  500000.,  260000.,  399000.,  325000.,\n",
       "        250000.,  150000.,  110000.,  350000.,  120000.,  250000.,\n",
       "        180000.,  260000.,  484999.,  250000.,  190000.,  495000.,\n",
       "        400000., 1400000., 1150000.,  380000.,   20000.,  300000.,\n",
       "        175000.,  650000.,  145000., 1300000.,  350000.,  575000.,\n",
       "        550000.,  400000.,  225000.,  150000.,  210000.,  229999.,\n",
       "       1549000.,  500000., 1140000.,  500000.,  350000.,  225000.,\n",
       "        180000.,  700000.,   75000.,  150000.,  300000.,  940000.,\n",
       "       1475000.,  245000.,  550000.,  265000.,  375000.,   95000.,\n",
       "        225000.,  130000.,  550000.,  600000.,  800000.,  150000.,\n",
       "        105000.,  350000.,  150000.,  150000., 1150000.,  425000.,\n",
       "        225000.,  500000.,  135000.,  150000.,  425000.,  360000.,\n",
       "        229999., 1334000.,  135000.,  150000.,  650000.,  419000.,\n",
       "        250000.,  210000.,  263000.,  600000.,  175000., 1000000.,\n",
       "        550000.,  380000.,  340000.,  275000.,  320000., 1850000.,\n",
       "        850000.,  210000.,  750000.,  229999.,  155000.,  420000.,\n",
       "         79000.,  200000.,  600000.,  325000.,  550000.,  120000.,\n",
       "        190000.,  260000.,  500000.,  280000.,  869999.,  250000.,\n",
       "        620000.,  110000.,  225000.,  210000.,  120000., 2800000.,\n",
       "        825000.,  225000.,  940000.,  450000.,  520000.,  150000.,\n",
       "        470000.,  310000.,   85000.,  240000.,  750000.,  175000.,\n",
       "         70000.,   75000.,   60000.,  670000.,  160000.,   75000.,\n",
       "         97000., 1250000.,  160000.,  260000.,  550000.,  650000.,\n",
       "       2000000.,   90000.,   80000., 2150000.,  120000.,  200000.,\n",
       "         79000.,  180000., 1700000.,  311000.,  300000.,  650000.,\n",
       "        320000.,  180000.,  330000.,  140000.,  350000.,  400000.,\n",
       "        190000.,  520000.,  198000.,  425000., 2700000.,  324000.,\n",
       "         95000.,   78000.,  434999., 1150000.,  665000.,  650000.,\n",
       "        770000.,  250000.,  550000.,  640000.,  345000.,  110000.,\n",
       "        175000.,  300000., 1100000.,  370000.,  350000.,  170000.,\n",
       "        375000.,  150000.,  220000.,  400000., 1000000.,  400000.,\n",
       "        233000.,  470000.,  535000.,  800000.,  950000.,  700000.,\n",
       "        350000.,  600000.,  425000.,  229999.,  150000.,  750000.,\n",
       "        350000.,  300000.,  400000.,  350000.,  250000.,  450000.,\n",
       "        377000.,  750000.,  525000.,  650000.,  225000.,  195000.,\n",
       "        930000.,  295000.,  725000.,  320000.,  450000.,  819999.,\n",
       "        465000.,  210000.,  450000.,  110000.,  130000.,  260000.,\n",
       "        500000.,  495000., 2500000.,  210000.,  575000., 1580000.,\n",
       "        385000.,  160000.,  590000.,  700000.,  640000.,  490000.,\n",
       "        596000.,  325000.,  363000.,  800000.,  300000.,  520000.,\n",
       "        300000.,  600000.,  490000.,  625000.,   80000.,  350000.,\n",
       "        385000.,  248000.,  550000.,  390000.,  325000.,  185000.,\n",
       "        500000.,  925000.,  300000.,  360000., 1000000.,  800000.,\n",
       "        700000.,  200000.,  530000.,  550000.,  610000.,  625000.,\n",
       "        280000.,  163000., 1470000.,  550000.,  195000.,  900000.,\n",
       "         65000.,  434999.,  900000.,  950000.,  110000.,  495000.,\n",
       "        380000.,  484999.,   85000.,  765000.,  140000., 1050000.,\n",
       "        525000.,  295000.,  550000., 1950000.,  750000.,  120000.,\n",
       "        459999.,  480000.,  320000.,  280000.,  300000.,  175000.,\n",
       "        450000.,  480000.,  370000.,  320000.,  220000.,  183000.,\n",
       "        300000.,  120000.,  570000.,  495000., 1050000.,  475000.,\n",
       "        250000.,  210000.,  150000.,  250000.,  250000., 1000000.,\n",
       "         69000.,  575000.,  400000.,  399000.,  229999.,  250000.,\n",
       "        240000.,  295000.,  240000.,  625000.,  450000.,  135000.,\n",
       "        220000.,  925000.,  135000.,  300000., 1400000.,  360000.,\n",
       "       1100000.,  450000.,  800000.,  890000.,  375000.,  500000.,\n",
       "        300000.,  450000.,   75000.,   75000.,  195000.,  450000.,\n",
       "        470000., 1100000.,  229999.,  350000.,  500000.,  500000.,\n",
       "        325000.,  300000.,  229999.,  535000.,  700000.,  900000.,\n",
       "        451000.,   80000.,  715000., 4950000.,  350000.,  225000.,\n",
       "        450000., 1000000.,  900000., 1000000.,  600000.,  550000.,\n",
       "        470000.,  285000.,  120000.,  600000.,  180000.,  227000.,\n",
       "       4000000.,  280000., 1000000.,   90000.,  725000., 1000000.,\n",
       "        420000.,  599000.,  409999.,  190000.,  400000.,  430000.,\n",
       "        120000.,  180000.,  320000.,  640000.,  100000.,   90000.,\n",
       "        300000.,  600000.,  160000.,  300000.,  170000.,  650000.,\n",
       "        250000.,  540000.,  525000.,  599000.,  220000.,  471000.,\n",
       "        240000.,  100000.,  480000.,  271000.,  110000.,  280000.,\n",
       "       1190000.,  120000., 1100000.,  350000.,  630000.,  950000.,\n",
       "         75000.,  150000.,   60000.,  220000.,  150000.,  285000.,\n",
       "        490000.,  450000.,  250000.,  175000.,  300000.,  525000.,\n",
       "        320000.,  390000.,  790000.,  215000.,  140000.,  300000.,\n",
       "        175000.,   35000.,  125000.,  600000.,  700000., 1550000.,\n",
       "        415000.,  550000.,   82000.,   55000.,  220000.,   80000.,\n",
       "        250999.,  425000.,  625000.,  260000.,  265000.,  135000.,\n",
       "        840000.,   90000.,  570000.,  750000.,  800000.,  225000.,\n",
       "        300000.,  434999.,  650000.,  700000.,  430000., 2600000.,\n",
       "        150000.,  750000.,   75000.,  160000.,   75000.,  725000.,\n",
       "       1150000.,  400000., 1260000.,  550000.,  240000.,  160000.,\n",
       "        370000.,  250000.,  160000.,   68000.,  480000.,  310000.,\n",
       "        350000.,  600000.,  150000.,  360000.,  180000.,   80000.,\n",
       "        950000.,  250000.,  180000.,  450000.,  699000.,   45000.,\n",
       "        350000.,  249000.,  810000.,  135000.,  385000.,  300000.,\n",
       "        800000.,  350000.,   80000.,  800000.,  155000.,  190000.,\n",
       "         80000.,  425000.,  200000.,  150000.,  500000.,  280000.,\n",
       "        300000.,  520000.,  225000.,  120000.,  450000.,  160000.,\n",
       "        225000., 8900000.,  450000.,  660000.,   75000.,  280000.,\n",
       "        229999.,  350000.,  511000.,  300000.,  125000.,  775000.,\n",
       "        900000.,  611000.,  170000., 1050000.,  509999.,  950000.,\n",
       "        250000., 1125000.,  100000.,  936999.,  380000.,  120000.,\n",
       "        450000., 1964999.,  147000.,  199000.,  380000.,  550000.,\n",
       "         80000.,  650000.,  450000., 1000000.,  290000.,  480000.,\n",
       "        690000.,  670000.,  500000.,  100000.,  150000.,  138000.,\n",
       "        375000.,   75000.,  430000., 1000000.,  260000.,   80000.,\n",
       "        500000.,  105000.,  550000.,  600000.,  140000.,  790000.,\n",
       "        355000.,  750000.,  350000.,  800000.,  375000.,  585000.,\n",
       "       2349000.,   70000.,  450000.,  180000.,  425000.,  470000.,\n",
       "        229999.,  350000.,  200000.,  800000.,  450000.,  690000.,\n",
       "       1800000.,  275000.,  110000.,  145000.,  350000.,  250000.,\n",
       "        330000.,   65000.,  110000., 1331000., 2750000.,  430000.,\n",
       "        165000.,  860000.,  120000., 1250000., 1400000.,  600000.,\n",
       "        300000.,  409999.,  250000.,  300000.,  350000.,  450000.,\n",
       "        140000.,  140000.,  200000., 1650000.,  790000.,  368000.,\n",
       "        320000.,  180000.,  225000.,  290000.,  550000.,   80000.,\n",
       "         50000.,  450000.,  100000.,  315000.,  142000.,  611000.,\n",
       "        320000.,  385000., 1068000., 1300000.,   65000.,  450000.,\n",
       "         51111.,  250000.,  900000.,  800000.,  110000.,  925000.,\n",
       "       1000000.,  440000.,   70000.,  580000.,   80000.,  500000.,\n",
       "        750000.,  180000.,  711000., 1300000.,  245000.,  600000.,\n",
       "        950000.,  550000.,  612000.,  785000.,  515000.,  851000.,\n",
       "         85000.,   58000.,  291000.,  195000.,  275000., 1300000.,\n",
       "        100000.,  170000.,  500000.,  610000.,  280000., 1650000.,\n",
       "        325000.,  160000.,  225000.,  225000.,  890000.,  320000.,\n",
       "        210000.,  190000.,   60000.,  175000.,  450000., 1200000.,\n",
       "       1700000.,  250000.,  580000., 1300000.,  210000.,  110000.,\n",
       "       1000000.,  425000.,   95000.,  600000.,  600000.,  150000.,\n",
       "       2595000.,   70000., 2600000.,  250000.,  100000.,  130000.,\n",
       "        350000.,  150000.,  650000.,  575000.])"
      ]
     },
     "execution_count": 135,
     "metadata": {},
     "output_type": "execute_result"
    }
   ],
   "source": [
    "model.predict(X_test)"
   ]
  },
  {
   "cell_type": "code",
   "execution_count": 137,
   "id": "eeda84e3",
   "metadata": {},
   "outputs": [
    {
     "data": {
      "text/plain": [
       "3978    165000\n",
       "1448    250000\n",
       "2664    120000\n",
       "17      450000\n",
       "1634    730000\n",
       "         ...  \n",
       "3468    130000\n",
       "3164    350000\n",
       "416     150000\n",
       "1616    650000\n",
       "2480    575000\n",
       "Name: selling_price, Length: 868, dtype: int64"
      ]
     },
     "execution_count": 137,
     "metadata": {},
     "output_type": "execute_result"
    }
   ],
   "source": [
    "y_test"
   ]
  },
  {
   "cell_type": "code",
   "execution_count": 138,
   "id": "950ca883",
   "metadata": {},
   "outputs": [
    {
     "data": {
      "text/plain": [
       "1.0"
      ]
     },
     "execution_count": 138,
     "metadata": {},
     "output_type": "execute_result"
    }
   ],
   "source": [
    "model.score(X_test,y_test)"
   ]
  },
  {
   "cell_type": "markdown",
   "id": "9aa87022",
   "metadata": {},
   "source": [
    "# Result of 1.0, it means model achieved a perfect accuracy of 100% on the test data."
   ]
  },
  {
   "cell_type": "markdown",
   "id": "f2648d01",
   "metadata": {},
   "source": [
    "# This indicates that the model is making correct predictions for all the samples in the test dataset."
   ]
  },
  {
   "cell_type": "code",
   "execution_count": null,
   "id": "82c4974d",
   "metadata": {},
   "outputs": [],
   "source": []
  }
 ],
 "metadata": {
  "kernelspec": {
   "display_name": "Python 3 (ipykernel)",
   "language": "python",
   "name": "python3"
  },
  "language_info": {
   "codemirror_mode": {
    "name": "ipython",
    "version": 3
   },
   "file_extension": ".py",
   "mimetype": "text/x-python",
   "name": "python",
   "nbconvert_exporter": "python",
   "pygments_lexer": "ipython3",
   "version": "3.9.13"
  }
 },
 "nbformat": 4,
 "nbformat_minor": 5
}
